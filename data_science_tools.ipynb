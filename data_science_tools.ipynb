{
 "cells": [
  {
   "cell_type": "markdown",
   "id": "8b6f5383-e301-49de-bcdb-27ae59d66a34",
   "metadata": {},
   "source": [
    "# Data Science Tools and Ecosystem"
   ]
  },
  {
   "cell_type": "markdown",
   "id": "b2cf954f-251a-4051-a2e3-921130904844",
   "metadata": {},
   "source": [
    "In this notebook, Data Science Tools and Ecosystem are summarized"
   ]
  },
  {
   "cell_type": "markdown",
   "id": "525a7261-441e-4f79-a262-939ad80b9062",
   "metadata": {},
   "source": [
    "Some of the popular languages that Data Scientists use are:\n",
    "\n",
    "1. Python\n",
    "2. R\n",
    "3. SQL\n",
    "4. Julia\n"
   ]
  },
  {
   "cell_type": "markdown",
   "id": "dbd74482-fc61-40b4-bf32-0a49db11362f",
   "metadata": {},
   "source": [
    "Some of the commonly used libraries used by Data Scientists include:\n",
    "\n",
    "1. Pandas - for data manipulation and analysis in Python.\n",
    "2. NumPy - for numerical operations and array manipulation in Python.\n",
    "3. Scikit-learn - for machine learning algorithms and tools in Python.\n",
    "4. ggplot2 - for data visualization in R.\n"
   ]
  },
  {
   "cell_type": "markdown",
   "id": "df800033-c464-462d-94d5-f9d6a01acaa2",
   "metadata": {},
   "source": [
    "| Data Science Tools         |\n",
    "| -------------------------- |\n",
    "| Jupyter Notebooks          |\n",
    "| RStudio                    |\n",
    "| VSCode with Python         |\n"
   ]
  },
  {
   "cell_type": "markdown",
   "id": "d0dd4083-3847-4b41-9ee1-0445c25251f4",
   "metadata": {},
   "source": [
    "### Examples of Evaluating Arithmetic Expressions in Python\n",
    "\n",
    "Below are a few examples of evaluating arithmetic expressions in Python:\n"
   ]
  },
  {
   "cell_type": "code",
   "execution_count": 1,
   "id": "3042894a-8077-4077-965c-fcc10934553f",
   "metadata": {},
   "outputs": [
    {
     "name": "stdout",
     "output_type": "stream",
     "text": [
      "17\n"
     ]
    }
   ],
   "source": [
    "# This is a simple arithmetic expression to multiply then add integers.\n",
    "result = (3 * 4) + 5\n",
    "\n",
    "# Display the result\n",
    "print(result)\n"
   ]
  },
  {
   "cell_type": "code",
   "execution_count": 2,
   "id": "0d754ebc-156b-4af3-887c-4bffccbf9572",
   "metadata": {},
   "outputs": [
    {
     "name": "stdout",
     "output_type": "stream",
     "text": [
      "3.3333333333333335\n"
     ]
    }
   ],
   "source": [
    "# This will convert 200 minutes to hours by dividing by 60.\n",
    "minutes = 200\n",
    "hours = minutes / 60\n",
    "\n",
    "# Display the result\n",
    "print(hours)\n"
   ]
  },
  {
   "cell_type": "markdown",
   "id": "2e9f548b-b4d0-4e38-b9aa-8d944e914913",
   "metadata": {},
   "source": [
    "**Objectives:**\n",
    "\n",
    "- List popular languages for Data Science.\n",
    "- Introduce commonly used libraries in Data Science.\n",
    "- Provide an overview of popular Data Science tools.\n",
    "- Demonstrate examples of evaluating arithmetic expressions in Python.\n",
    "- Illustrate the conversion of minutes to hours in Python.\n"
   ]
  },
  {
   "cell_type": "markdown",
   "id": "ac9d6dd2-c4ed-4894-86e8-3f3554a817ed",
   "metadata": {},
   "source": [
    "## Author\n",
    "\n",
    "Pushkar Raj"
   ]
  },
  {
   "cell_type": "code",
   "execution_count": null,
   "id": "319531fa-9c7c-4562-90d6-3b96447dc04b",
   "metadata": {},
   "outputs": [],
   "source": []
  }
 ],
 "metadata": {
  "kernelspec": {
   "display_name": "Python 3 (ipykernel)",
   "language": "python",
   "name": "python3"
  },
  "language_info": {
   "codemirror_mode": {
    "name": "ipython",
    "version": 3
   },
   "file_extension": ".py",
   "mimetype": "text/x-python",
   "name": "python",
   "nbconvert_exporter": "python",
   "pygments_lexer": "ipython3",
   "version": "3.10.12"
  }
 },
 "nbformat": 4,
 "nbformat_minor": 5
}
